{
  "nbformat": 4,
  "nbformat_minor": 0,
  "metadata": {
    "colab": {
      "provenance": [],
      "gpuType": "T4",
      "authorship_tag": "ABX9TyM2DedIf7j9BNnY+zzKkAlH",
      "include_colab_link": true
    },
    "kernelspec": {
      "name": "python3",
      "display_name": "Python 3"
    },
    "language_info": {
      "name": "python"
    },
    "accelerator": "GPU"
  },
  "cells": [
    {
      "cell_type": "markdown",
      "metadata": {
        "id": "view-in-github",
        "colab_type": "text"
      },
      "source": [
        "<a href=\"https://colab.research.google.com/github/charlie-brunold/MAIA-Film-Dashboard/blob/main/MAIA_Film_Revenue_Prediction_Basic_Model.ipynb\" target=\"_parent\"><img src=\"https://colab.research.google.com/assets/colab-badge.svg\" alt=\"Open In Colab\"/></a>"
      ]
    },
    {
      "cell_type": "code",
      "execution_count": null,
      "metadata": {
        "colab": {
          "base_uri": "https://localhost:8080/"
        },
        "id": "G507M2U2q0lM",
        "outputId": "67d666b1-a2ee-4697-b9b8-550123b7f3a9"
      },
      "outputs": [
        {
          "output_type": "stream",
          "name": "stdout",
          "text": [
            "129755003.162445\n"
          ]
        }
      ],
      "source": [
        "import pandas as pd\n",
        "from sklearn.metrics import mean_absolute_error\n",
        "from sklearn.model_selection import train_test_split\n",
        "from sklearn.ensemble import RandomForestRegressor\n",
        "from sklearn.preprocessing import OneHotEncoder, StandardScaler\n",
        "from sklearn.compose import ColumnTransformer\n",
        "from sklearn.pipeline import Pipeline\n",
        "\n",
        "\n",
        "movie_data_file_path = 'Movie_Data.csv'\n",
        "movie_data = pd.read_csv(movie_data_file_path)\n",
        "\n",
        "y = movie_data.revenue\n",
        "movie_features = ['score', 'genre', 'crew', 'orig_lang', 'budget', 'country', 'budget_std']\n",
        "X = movie_data[movie_features]\n",
        "\n",
        "numeric_features = ['score', 'budget', 'budget_std']\n",
        "categorical_features = ['genre', 'crew', 'orig_lang', 'country']\n",
        "\n",
        "numeric_transformer = Pipeline(steps = [('onehot', OneHotEncoder(handle_unknown='ignore'))])\n",
        "categorical_transformer = Pipeline(steps = [('onehot', OneHotEncoder(handle_unknown='ignore'))])\n",
        "\n",
        "preprocessor = ColumnTransformer(transformers= [\n",
        "    ('num', numeric_transformer, numeric_features),\n",
        "    ('cat', categorical_transformer, categorical_features)\n",
        "])\n",
        "\n",
        "model = Pipeline(steps = [\n",
        "    ('preprocessor', preprocessor),\n",
        "    ('regressor', RandomForestRegressor(random_state=1))\n",
        "])\n",
        "\n",
        "train_X, val_X, train_y, val_y = train_test_split(X, y, random_state=1)\n",
        "\n",
        "model.fit(train_X, train_y)\n",
        "movie_preds = model.predict(val_X)\n",
        "print(mean_absolute_error(val_y, movie_preds))\n",
        "\n"
      ]
    }
  ]
}